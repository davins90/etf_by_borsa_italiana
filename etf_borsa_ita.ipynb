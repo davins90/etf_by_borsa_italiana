{
 "nbformat": 4,
 "nbformat_minor": 2,
 "metadata": {
  "language_info": {
   "name": "python",
   "codemirror_mode": {
    "name": "ipython",
    "version": 3
   },
   "version": "3.7.3-final"
  },
  "orig_nbformat": 2,
  "file_extension": ".py",
  "mimetype": "text/x-python",
  "name": "python",
  "npconvert_exporter": "python",
  "pygments_lexer": "ipython3",
  "version": 3,
  "kernelspec": {
   "name": "python37364bitf15ffc4a8398405aa0d2ca018641a255",
   "display_name": "Python 3.7.3 64-bit"
  }
 },
 "cells": [
  {
   "cell_type": "code",
   "execution_count": 1,
   "metadata": {},
   "outputs": [],
   "source": [
    "## Import basic libraries\n",
    "import pandas as pd\n",
    "from datetime import date"
   ]
  },
  {
   "cell_type": "code",
   "execution_count": 2,
   "metadata": {},
   "outputs": [],
   "source": [
    "## Retrive data and store it\n",
    "url = \"https://www.borsaitaliana.it/etf/etf/infoproviders.xlsx\"\n",
    "df = pd.read_excel(url,'Info providers codes ETF',header=8)"
   ]
  },
  {
   "cell_type": "markdown",
   "metadata": {},
   "source": [
    "## Explorative analysis on the dataset provided from the scraping"
   ]
  },
  {
   "cell_type": "code",
   "execution_count": 3,
   "metadata": {},
   "outputs": [
    {
     "name": "stdout",
     "output_type": "stream",
     "text": "Until today, 2020-03-16 ,there are: 1059 ETF listed on Borsa Italiana\n"
    },
    {
     "data": {
      "text/html": "<div>\n<style scoped>\n    .dataframe tbody tr th:only-of-type {\n        vertical-align: middle;\n    }\n\n    .dataframe tbody tr th {\n        vertical-align: top;\n    }\n\n    .dataframe thead th {\n        text-align: right;\n    }\n</style>\n<table border=\"1\" class=\"dataframe\">\n  <thead>\n    <tr style=\"text-align: right;\">\n      <th></th>\n      <th>N.</th>\n      <th>ISIN</th>\n      <th>Nome</th>\n      <th>Local Market TIDM</th>\n      <th>Reuters RIC (Italy)</th>\n      <th>Bloomerg Ticker (Italy)</th>\n      <th>Indice Benchmark</th>\n      <th>TER</th>\n      <th>Dividend Policy</th>\n      <th>Area Benchmark</th>\n      <th>Strumento</th>\n      <th>Emittente</th>\n      <th>Tick</th>\n    </tr>\n  </thead>\n  <tbody>\n    <tr>\n      <th>0</th>\n      <td>1</td>\n      <td>DE0002635265</td>\n      <td>ISHARES PFANDBRIEFE UCITS ETF</td>\n      <td>EXHE</td>\n      <td>R1JKEX.MI</td>\n      <td>R1JKEX IM</td>\n      <td>MARKIT IBOXX PFANDBRIEFE</td>\n      <td>0.00096</td>\n      <td>TRIMESTRALE</td>\n      <td>OBBLIGAZIONARIO CORPORATE - EURO</td>\n      <td>ETF</td>\n      <td>ISHARES</td>\n      <td>TS_ETFMF</td>\n    </tr>\n    <tr>\n      <th>1</th>\n      <td>2</td>\n      <td>DE0002635299</td>\n      <td>ISHARES STX EUROPE SEL DIV 30 UCITS ETF</td>\n      <td>EXSH</td>\n      <td>SD3PEX.MI</td>\n      <td>SD3PEX IM</td>\n      <td>STOXX EUROPE SELECT DIVIDEND 30</td>\n      <td>0.00320</td>\n      <td>TRIMESTRALE</td>\n      <td>AZIONARIO STYLE (SVILUPPATI)</td>\n      <td>ETF</td>\n      <td>ISHARES</td>\n      <td>TS_06MF</td>\n    </tr>\n  </tbody>\n</table>\n</div>",
      "text/plain": "   N.          ISIN                                     Nome  \\\n0   1  DE0002635265            ISHARES PFANDBRIEFE UCITS ETF   \n1   2  DE0002635299  ISHARES STX EUROPE SEL DIV 30 UCITS ETF   \n\n  Local Market TIDM Reuters RIC (Italy) Bloomerg Ticker (Italy)  \\\n0              EXHE           R1JKEX.MI               R1JKEX IM   \n1              EXSH           SD3PEX.MI               SD3PEX IM   \n\n                  Indice Benchmark      TER Dividend Policy  \\\n0         MARKIT IBOXX PFANDBRIEFE  0.00096     TRIMESTRALE   \n1  STOXX EUROPE SELECT DIVIDEND 30  0.00320     TRIMESTRALE   \n\n                     Area Benchmark Strumento Emittente      Tick  \n0  OBBLIGAZIONARIO CORPORATE - EURO       ETF   ISHARES  TS_ETFMF  \n1      AZIONARIO STYLE (SVILUPPATI)       ETF   ISHARES   TS_06MF  "
     },
     "execution_count": 3,
     "metadata": {},
     "output_type": "execute_result"
    }
   ],
   "source": [
    "## EDA 1: First check on dataframe originated\n",
    "print('Until today,',date.today(),',there are: %d ETF'%df.shape[0],'listed on Borsa Italiana')\n",
    "df.head(2)"
   ]
  },
  {
   "cell_type": "code",
   "execution_count": 4,
   "metadata": {},
   "outputs": [],
   "source": [
    "# df = df.astype(str).apply(lambda x: x.str.lower())"
   ]
  },
  {
   "cell_type": "code",
   "execution_count": 5,
   "metadata": {},
   "outputs": [],
   "source": [
    "# df = df.replace(\" \",\"_\",regex=True)"
   ]
  },
  {
   "cell_type": "code",
   "execution_count": 6,
   "metadata": {},
   "outputs": [
    {
     "name": "stdout",
     "output_type": "stream",
     "text": "<class 'pandas.core.frame.DataFrame'>\nRangeIndex: 1059 entries, 0 to 1058\nData columns (total 13 columns):\nN.                         1059 non-null int64\nISIN                       1059 non-null object\nNome                       1059 non-null object\nLocal Market TIDM          1059 non-null object\nReuters RIC (Italy)        1059 non-null object\nBloomerg Ticker (Italy)    1059 non-null object\nIndice Benchmark           1024 non-null object\nTER                        1059 non-null float64\nDividend Policy            1059 non-null object\nArea Benchmark             1059 non-null object\nStrumento                  1059 non-null object\nEmittente                  1059 non-null object\nTick                       1059 non-null object\ndtypes: float64(1), int64(1), object(11)\nmemory usage: 107.6+ KB\n"
    }
   ],
   "source": [
    "## EDA 2: Check generic info od the dataframe\n",
    "df.info()"
   ]
  },
  {
   "cell_type": "code",
   "execution_count": 7,
   "metadata": {},
   "outputs": [
    {
     "data": {
      "text/plain": "N.                          0\nISIN                        0\nNome                        0\nLocal Market TIDM           0\nReuters RIC (Italy)         0\nBloomerg Ticker (Italy)     0\nIndice Benchmark           35\nTER                         0\nDividend Policy             0\nArea Benchmark              0\nStrumento                   0\nEmittente                   0\nTick                        0\ndtype: int64"
     },
     "execution_count": 7,
     "metadata": {},
     "output_type": "execute_result"
    }
   ],
   "source": [
    "## EDA 3: Check for nan/null \n",
    "df.isnull().sum()"
   ]
  },
  {
   "cell_type": "code",
   "execution_count": 8,
   "metadata": {},
   "outputs": [
    {
     "data": {
      "text/plain": "AZIONARIO TEMATICI                            124\nAZIONARIO STYLE (SVILUPPATI)                   98\nAZIONARIO SETTORIALI (SVILUPPATI)              80\nAZIONARIO NORD AMERICA                         75\nTITOLI DI STATO - EURO                         68\nAZIONARIO EUROPA - AREA                        65\nAZIONARIO EMERGENTI - ASIA                     50\nOBBLIGAZIONARIO CORPORATE - EURO               47\nAZIONARIO PACIFICO                             43\nAZIONARIO MONDO                                40\nTITOLI DI STATO - NON EURO                     40\nOBBLIGAZIONARIO CORPORATE - NON EURO           35\nOBBLIGAZIONARIO CORPORATE - HIGH YIELD         32\nTITOLI DI STATO - EMERGENTI                    29\nAZIONARIO EMERGENTI - MONDO                    27\nINFLAZIONE                                     22\nOBBLIGAZIONARIO MISTO                          21\nAZIONARIO EUROPA - SINGOLI PAESI               21\nREAL ESTATE                                    18\nCOMMODITIES                                    15\nAZIONARIO EMERGENTI - CENTRO/SUD AMERICA       12\nLIQUIDITA'                                     10\nAZIONARIO ITALIA                                9\nAZIONARIO EMERGENTI - EST EUROPA                8\nAZIONARIO STYLE (EMERGENTI)                     8\nLEVERAGED LONG                                  8\nTITOLI DI STATO - MONDO                         8\nLEVERAGED SHORT                                 7\nAZIONARIO SHORT (SVILUPPATI)                    7\nTITOLI DI STATO - ITALIA                        5\nAZIONARIO EMERGENTI - AFRICA/MEDIO ORIENTE      5\nOBBLIGAZIONARIO SHORT                           4\nFLESSIBILE                                      4\nOBBLIGAZIONARIO LEVERAGED SHORT                 3\nOBBLIGAZIONARIO CORPORATE - MONDO               3\nOBBLIGAZIONARIO CORPORATE - EMERGENTI           2\nINDICI DI CREDITO                               2\nOBBLIGAZIONARIO LEVERAGED LONG                  2\nINDICI DI VOLATILITA'                           1\nMULTI ASSET                                     1\nName: Area Benchmark, dtype: int64"
     },
     "execution_count": 8,
     "metadata": {},
     "output_type": "execute_result"
    }
   ],
   "source": [
    "## EDA 4: Frequency of ETF instruments in every sub asset class: which is the most frquent?\n",
    "df['Area Benchmark'].value_counts()"
   ]
  },
  {
   "cell_type": "code",
   "execution_count": 9,
   "metadata": {},
   "outputs": [
    {
     "data": {
      "text/html": "<div>\n<style scoped>\n    .dataframe tbody tr th:only-of-type {\n        vertical-align: middle;\n    }\n\n    .dataframe tbody tr th {\n        vertical-align: top;\n    }\n\n    .dataframe thead th {\n        text-align: right;\n    }\n</style>\n<table border=\"1\" class=\"dataframe\">\n  <thead>\n    <tr style=\"text-align: right;\">\n      <th></th>\n      <th>TER</th>\n    </tr>\n    <tr>\n      <th>Area Benchmark</th>\n      <th></th>\n    </tr>\n  </thead>\n  <tbody>\n    <tr>\n      <th>AZIONARIO EMERGENTI - AFRICA/MEDIO ORIENTE</th>\n      <td>0.007100</td>\n    </tr>\n    <tr>\n      <th>AZIONARIO EMERGENTI - EST EUROPA</th>\n      <td>0.006362</td>\n    </tr>\n    <tr>\n      <th>FLESSIBILE</th>\n      <td>0.006225</td>\n    </tr>\n    <tr>\n      <th>LEVERAGED SHORT</th>\n      <td>0.006143</td>\n    </tr>\n    <tr>\n      <th>INDICI DI VOLATILITA'</th>\n      <td>0.006000</td>\n    </tr>\n  </tbody>\n</table>\n</div>",
      "text/plain": "                                                 TER\nArea Benchmark                                      \nAZIONARIO EMERGENTI - AFRICA/MEDIO ORIENTE  0.007100\nAZIONARIO EMERGENTI - EST EUROPA            0.006362\nFLESSIBILE                                  0.006225\nLEVERAGED SHORT                             0.006143\nINDICI DI VOLATILITA'                       0.006000"
     },
     "execution_count": 9,
     "metadata": {},
     "output_type": "execute_result"
    }
   ],
   "source": [
    "## EDA 5: Find mean TER value for each sub asset-class and sort it: to which categories belongs most expensive instruments?\n",
    "ter_medio = df.groupby('Area Benchmark')['TER'].mean()\n",
    "ter_medio = pd.DataFrame(ter_medio)\n",
    "ter_medio.sort_values(by='TER',ascending=False).head(5)"
   ]
  },
  {
   "cell_type": "code",
   "execution_count": 10,
   "metadata": {},
   "outputs": [
    {
     "data": {
      "text/plain": "CAPITALIZZATI    677\nSEMESTRALE       199\nTRIMESTRALE      117\nANNUALE           50\nMENSILE           16\nName: Dividend Policy, dtype: int64"
     },
     "execution_count": 10,
     "metadata": {},
     "output_type": "execute_result"
    }
   ],
   "source": [
    "## EDA 6: Dividend analysis\n",
    "df['Dividend Policy'].value_counts()"
   ]
  },
  {
   "cell_type": "code",
   "execution_count": 11,
   "metadata": {},
   "outputs": [
    {
     "data": {
      "text/plain": "ETF                988\nETF STRUTTURATI     36\nETF ATTIVI          35\nName: Strumento, dtype: int64"
     },
     "execution_count": 11,
     "metadata": {},
     "output_type": "execute_result"
    }
   ],
   "source": [
    "## EDA 7: How many kind of ETF type are in the dataframe?\n",
    "df['Strumento'].value_counts()"
   ]
  },
  {
   "cell_type": "code",
   "execution_count": 12,
   "metadata": {},
   "outputs": [
    {
     "data": {
      "text/plain": "LYXOR                 176\nISHARES               142\nXTRACKERS             121\nAMUNDI                111\nUBS ETF               102\nINVESCO                90\nSPDR                   76\nWISDOMTREE             39\nVANGUARD               33\nBNP PARIBAS            30\nJP MORGAN              27\nLEGAL & GENERAL        22\nHSBC                   21\nVANECK                 19\nFRANKLIN TEMPLETON     14\nOSSIAM                 12\nCANDRIAM                5\nHANETF                  5\nCREDIT SUISSE           4\nFIRST TRUST             4\nGSAM                    3\nSTRUCTURED INVEST       2\nRIZE ETF                1\nName: Emittente, dtype: int64"
     },
     "execution_count": 12,
     "metadata": {},
     "output_type": "execute_result"
    }
   ],
   "source": [
    "## EDA 8: How many kind of \"ETF creator\" type are in the dataframe?\n",
    "df['Emittente'].value_counts()"
   ]
  },
  {
   "cell_type": "code",
   "execution_count": 13,
   "metadata": {},
   "outputs": [
    {
     "data": {
      "text/html": "<div>\n<style scoped>\n    .dataframe tbody tr th:only-of-type {\n        vertical-align: middle;\n    }\n\n    .dataframe tbody tr th {\n        vertical-align: top;\n    }\n\n    .dataframe thead th {\n        text-align: right;\n    }\n</style>\n<table border=\"1\" class=\"dataframe\">\n  <thead>\n    <tr style=\"text-align: right;\">\n      <th></th>\n      <th>TER</th>\n    </tr>\n    <tr>\n      <th>Emittente</th>\n      <th></th>\n    </tr>\n  </thead>\n  <tbody>\n    <tr>\n      <th>STRUCTURED INVEST</th>\n      <td>0.009500</td>\n    </tr>\n    <tr>\n      <th>HANETF</th>\n      <td>0.007820</td>\n    </tr>\n    <tr>\n      <th>FIRST TRUST</th>\n      <td>0.006125</td>\n    </tr>\n    <tr>\n      <th>OSSIAM</th>\n      <td>0.006083</td>\n    </tr>\n    <tr>\n      <th>RIZE ETF</th>\n      <td>0.004500</td>\n    </tr>\n  </tbody>\n</table>\n</div>",
      "text/plain": "                        TER\nEmittente                  \nSTRUCTURED INVEST  0.009500\nHANETF             0.007820\nFIRST TRUST        0.006125\nOSSIAM             0.006083\nRIZE ETF           0.004500"
     },
     "execution_count": 13,
     "metadata": {},
     "output_type": "execute_result"
    }
   ],
   "source": [
    "## EDA 9: Which are the institution with most expensive instruments?\n",
    "ter_emitt = df.groupby('Emittente')['TER'].mean()\n",
    "ter_emitt = pd.DataFrame(ter_emitt)\n",
    "ter_emitt.sort_values(by='TER',ascending=False).head(5)"
   ]
  },
  {
   "cell_type": "markdown",
   "metadata": {},
   "source": [
    "## Search specific ETFs inside the dataset"
   ]
  },
  {
   "cell_type": "code",
   "execution_count": 16,
   "metadata": {},
   "outputs": [
    {
     "name": "stdout",
     "output_type": "stream",
     "text": "Stai cercando degli ETF che contengono la parola  ITALY  nel loro indice di replica\n"
    }
   ],
   "source": [
    "## Search an ETF by user input\n",
    "input_text = input('\"Che ETF vuoi cercare? (Inserire una parola che potrebbe essere contenuta nel nome dell indice benchmark (Upper Case)) ')\n",
    "print(\"Stai cercando degli ETF che contengono la parola \",input_text,\" nel loro indice di replica\")"
   ]
  },
  {
   "cell_type": "code",
   "execution_count": 17,
   "metadata": {},
   "outputs": [
    {
     "data": {
      "text/html": "<div>\n<style scoped>\n    .dataframe tbody tr th:only-of-type {\n        vertical-align: middle;\n    }\n\n    .dataframe tbody tr th {\n        vertical-align: top;\n    }\n\n    .dataframe thead th {\n        text-align: right;\n    }\n</style>\n<table border=\"1\" class=\"dataframe\">\n  <thead>\n    <tr style=\"text-align: right;\">\n      <th></th>\n      <th>N.</th>\n      <th>ISIN</th>\n      <th>Nome</th>\n      <th>Local Market TIDM</th>\n      <th>Reuters RIC (Italy)</th>\n      <th>Bloomerg Ticker (Italy)</th>\n      <th>Indice Benchmark</th>\n      <th>TER</th>\n      <th>Dividend Policy</th>\n      <th>Area Benchmark</th>\n      <th>Strumento</th>\n      <th>Emittente</th>\n      <th>Tick</th>\n    </tr>\n  </thead>\n  <tbody>\n    <tr>\n      <th>159</th>\n      <td>160</td>\n      <td>FR0010655720</td>\n      <td>AMUNDI MSCI ITALY UCITS ETF</td>\n      <td>CI1</td>\n      <td>CI1.MI</td>\n      <td>CI1 IM</td>\n      <td>MSCI ITALY TRN</td>\n      <td>0.00250</td>\n      <td>CAPITALIZZATI</td>\n      <td>AZIONARIO ITALIA</td>\n      <td>ETF</td>\n      <td>AMUNDI</td>\n      <td>TS_06MF</td>\n    </tr>\n    <tr>\n      <th>234</th>\n      <td>235</td>\n      <td>LU0613540268</td>\n      <td>XTRACKERS II ITAL GOV 0-1 SWAP UCITS ETF</td>\n      <td>XBOT</td>\n      <td>XBOT.MI</td>\n      <td>XBOT IM</td>\n      <td>MTS ITALY BOT - EX-BANK OF ITALY TR</td>\n      <td>0.00150</td>\n      <td>CAPITALIZZATI</td>\n      <td>TITOLI DI STATO - ITALIA</td>\n      <td>ETF</td>\n      <td>XTRACKERS</td>\n      <td>TS_ETFMF</td>\n    </tr>\n    <tr>\n      <th>250</th>\n      <td>251</td>\n      <td>IE00B7LW6Y90</td>\n      <td>ISHARES ITALY GOVT BOND UCITS ETF DIST</td>\n      <td>IITB</td>\n      <td>IITB.MI</td>\n      <td>IITB IM</td>\n      <td>BARCLAYS ITALY TREASURY BOND</td>\n      <td>0.00200</td>\n      <td>SEMESTRALE</td>\n      <td>TITOLI DI STATO - ITALIA</td>\n      <td>ETF</td>\n      <td>ISHARES</td>\n      <td>TS_ETFMF</td>\n    </tr>\n    <tr>\n      <th>459</th>\n      <td>460</td>\n      <td>LU1287024076</td>\n      <td>LYXOR BOT MTS EX-BANKIT DR UCITS ETF ACC</td>\n      <td>BOT6M</td>\n      <td>BOT6M.MI</td>\n      <td>BOT6M IM</td>\n      <td>FTSE MTS EX-BANK OF ITALY BOT MIDP</td>\n      <td>0.00150</td>\n      <td>CAPITALIZZATI</td>\n      <td>TITOLI DI STATO - ITALIA</td>\n      <td>ETF</td>\n      <td>LYXOR</td>\n      <td>TS_ETFMF</td>\n    </tr>\n    <tr>\n      <th>597</th>\n      <td>598</td>\n      <td>LU1598691217</td>\n      <td>LYXOR EMTS 10Y ITA BTP DR UCITS ETF ACC</td>\n      <td>BTP10</td>\n      <td>BTP10.MI</td>\n      <td>BTP10 IM</td>\n      <td>FTSE MTS TARGET MATURITY GOV BOND ITALY MIDP</td>\n      <td>0.00165</td>\n      <td>CAPITALIZZATI</td>\n      <td>TITOLI DI STATO - ITALIA</td>\n      <td>ETF</td>\n      <td>LYXOR</td>\n      <td>TS_ETFMF</td>\n    </tr>\n    <tr>\n      <th>598</th>\n      <td>599</td>\n      <td>LU1598691050</td>\n      <td>LYXOR EMTS 1-3Y ITA BTP DR UCITS ETF DIS</td>\n      <td>BTP13</td>\n      <td>BTP13.MI</td>\n      <td>BTP13 IM</td>\n      <td>FTSE MTS ITALY GOV 1-3 Y MIDP</td>\n      <td>0.00165</td>\n      <td>CAPITALIZZATI</td>\n      <td>TITOLI DI STATO - ITALIA</td>\n      <td>ETF</td>\n      <td>LYXOR</td>\n      <td>TS_ETFMF</td>\n    </tr>\n  </tbody>\n</table>\n</div>",
      "text/plain": "      N.          ISIN                                      Nome  \\\n159  160  FR0010655720               AMUNDI MSCI ITALY UCITS ETF   \n234  235  LU0613540268  XTRACKERS II ITAL GOV 0-1 SWAP UCITS ETF   \n250  251  IE00B7LW6Y90    ISHARES ITALY GOVT BOND UCITS ETF DIST   \n459  460  LU1287024076  LYXOR BOT MTS EX-BANKIT DR UCITS ETF ACC   \n597  598  LU1598691217   LYXOR EMTS 10Y ITA BTP DR UCITS ETF ACC   \n598  599  LU1598691050  LYXOR EMTS 1-3Y ITA BTP DR UCITS ETF DIS   \n\n    Local Market TIDM Reuters RIC (Italy) Bloomerg Ticker (Italy)  \\\n159               CI1              CI1.MI                  CI1 IM   \n234              XBOT             XBOT.MI                 XBOT IM   \n250              IITB             IITB.MI                 IITB IM   \n459             BOT6M            BOT6M.MI                BOT6M IM   \n597             BTP10            BTP10.MI                BTP10 IM   \n598             BTP13            BTP13.MI                BTP13 IM   \n\n                                 Indice Benchmark      TER Dividend Policy  \\\n159                                MSCI ITALY TRN  0.00250   CAPITALIZZATI   \n234           MTS ITALY BOT - EX-BANK OF ITALY TR  0.00150   CAPITALIZZATI   \n250                  BARCLAYS ITALY TREASURY BOND  0.00200      SEMESTRALE   \n459            FTSE MTS EX-BANK OF ITALY BOT MIDP  0.00150   CAPITALIZZATI   \n597  FTSE MTS TARGET MATURITY GOV BOND ITALY MIDP  0.00165   CAPITALIZZATI   \n598                 FTSE MTS ITALY GOV 1-3 Y MIDP  0.00165   CAPITALIZZATI   \n\n               Area Benchmark Strumento  Emittente      Tick  \n159          AZIONARIO ITALIA       ETF     AMUNDI   TS_06MF  \n234  TITOLI DI STATO - ITALIA       ETF  XTRACKERS  TS_ETFMF  \n250  TITOLI DI STATO - ITALIA       ETF    ISHARES  TS_ETFMF  \n459  TITOLI DI STATO - ITALIA       ETF      LYXOR  TS_ETFMF  \n597  TITOLI DI STATO - ITALIA       ETF      LYXOR  TS_ETFMF  \n598  TITOLI DI STATO - ITALIA       ETF      LYXOR  TS_ETFMF  "
     },
     "execution_count": 17,
     "metadata": {},
     "output_type": "execute_result"
    }
   ],
   "source": [
    "## Find etf by user input'search\n",
    "df[df['Indice Benchmark'].str.contains(input_text,na=False)]"
   ]
  },
  {
   "cell_type": "code",
   "execution_count": null,
   "metadata": {},
   "outputs": [],
   "source": []
  }
 ]
}